{
 "cells": [
  {
   "cell_type": "markdown",
   "metadata": {},
   "source": [
    "# <span style=\"color:blue\"> **Snake algorithm** </span>"
   ]
  },
  {
   "cell_type": "markdown",
   "metadata": {},
   "source": [
    "## Imports"
   ]
  },
  {
   "cell_type": "code",
   "execution_count": 2,
   "metadata": {},
   "outputs": [],
   "source": [
    "import os\n",
    "import sys\n",
    "import cv2 as cv2\n",
    "import matplotlib.cm as cm\n",
    "from scipy.ndimage import filters\n",
    "import numpy as np\n",
    "import pylab as plb\n",
    "import matplotlib.pyplot as plt\n",
    "import copy\n",
    "import scipy.ndimage\n",
    "import scipy.ndimage as nd\n",
    "import matplotlib.pyplot as plt"
   ]
  },
  {
   "cell_type": "markdown",
   "metadata": {},
   "source": [
    "## Some constants"
   ]
  },
  {
   "cell_type": "code",
   "execution_count": 3,
   "metadata": {},
   "outputs": [],
   "source": [
    "ALPHA = 300\n",
    "BETA = 2\n",
    "Gamma = 50\n",
    "k = 40\n",
    "NUM_NEIGHBORS = 9"
   ]
  },
  {
   "cell_type": "markdown",
   "metadata": {},
   "source": [
    "## The candaidate 8 movments of neighbors"
   ]
  },
  {
   "cell_type": "code",
   "execution_count": 4,
   "metadata": {},
   "outputs": [],
   "source": [
    "neighbors = np.array([[i, j] for i in range(-1, 2) for j in range(-1, 2)])"
   ]
  },
  {
   "cell_type": "markdown",
   "metadata": {},
   "source": [
    "## Getting the internal energy"
   ]
  },
  {
   "cell_type": "markdown",
   "metadata": {},
   "source": [
    "Internal Energy = Continuity Energy + Curvature Energy\n",
    "$$\n",
    "\\sum_{i=1}^{N} \\alpha*Econt + \\beta*Ecurv\n",
    "$$"
   ]
  },
  {
   "cell_type": "code",
   "execution_count": 5,
   "metadata": {},
   "outputs": [],
   "source": [
    "def internalEnergy(snake):\n",
    "    iEnergy=0\n",
    "    snakeLength=len(snake)\n",
    "    for index in range(snakeLength-1,-1,-1):  #??\n",
    "        nextPoint = (index+1)%snakeLength\n",
    "        currentPoint = index % snakeLength\n",
    "        previousePoint = (index - 1) % snakeLength\n",
    "        iEnergy = iEnergy+ (ALPHA *(np.linalg.norm(snake[nextPoint] - snake[currentPoint] )**2))\\\n",
    "                  + (BETA * (np.linalg.norm(snake[nextPoint] - 2 * snake[currentPoint] + snake[previousePoint])**2))\n",
    "    return iEnergy"
   ]
  },
  {
   "cell_type": "markdown",
   "metadata": {},
   "source": [
    "## Mapping for gradient"
   ]
  },
  {
   "cell_type": "code",
   "execution_count": 6,
   "metadata": {},
   "outputs": [],
   "source": [
    "def interval_mapping(image, from_min, from_max, to_min, to_max):\n",
    "    from_range = from_max - from_min\n",
    "    to_range = to_max - to_min\n",
    "    scaled = np.array((image - from_min) / float(from_range), dtype=float)\n",
    "    return to_min + (scaled * to_range)"
   ]
  },
  {
   "cell_type": "markdown",
   "metadata": {},
   "source": [
    "## Getting the  gradient of the image using sobel"
   ]
  },
  {
   "cell_type": "code",
   "execution_count": 7,
   "metadata": {},
   "outputs": [],
   "source": [
    "def basicImageGradiant(image):\n",
    "    s_mask = 17\n",
    "    sobelx = np.abs(cv2.Sobel(image, cv2.CV_64F, 1, 0, ksize=s_mask))\n",
    "    sobelx = interval_mapping(sobelx, np.min(sobelx), np.max(sobelx), 0, 255)\n",
    "    sobely = np.abs(cv2.Sobel(image, cv2.CV_64F, 0, 1, ksize=s_mask))\n",
    "    sobely = interval_mapping(sobely, np.min(sobely), np.max(sobely), 0, 255)\n",
    "    gradient = 0.5 * sobelx + 0.5 * sobely\n",
    "    print(sobelx)\n",
    "    print(sobely)\n",
    "    return gradient"
   ]
  },
  {
   "cell_type": "code",
   "execution_count": 8,
   "metadata": {},
   "outputs": [],
   "source": [
    "def imageGradient(gradient, snak):\n",
    "    sum = 0\n",
    "    snaxels_Len= len(snak)\n",
    "    for index in range(snaxels_Len-1):\n",
    "        point = snak[index]\n",
    "        sum = sum+((gradient[point[1]][point[0]]))\n",
    "    return sum"
   ]
  },
  {
   "cell_type": "markdown",
   "metadata": {},
   "source": [
    "## Getting the external energy (image gradeint)"
   ]
  },
  {
   "cell_type": "code",
   "execution_count": 15,
   "metadata": {},
   "outputs": [],
   "source": [
    "def externalEnergy(grediant,image,snak):\n",
    "    sum = 0\n",
    "    snaxels_Len = len(snak)\n",
    "    for index in range(snaxels_Len - 1):\n",
    "        point = snak[index]\n",
    "        sum = +(image[point[1]][point[0]])\n",
    "    pixel = 255 * sum\n",
    "    eEnergy = k * (pixel - imageGradient(grediant, snak)) \n",
    "    return eEnergy"
   ]
  },
  {
   "cell_type": "markdown",
   "metadata": {},
   "source": [
    "## Getting the total energy"
   ]
  },
  {
   "cell_type": "markdown",
   "metadata": {},
   "source": [
    "Total Energy = Continuity Energy + Curvature Energy + Image Energy\n",
    "$$\n",
    "\\sum_{i=1}^{N} \\alpha*Econt + \\beta*Ecurv + \\gamma*Eimg\n",
    "$$"
   ]
  },
  {
   "cell_type": "code",
   "execution_count": 16,
   "metadata": {},
   "outputs": [],
   "source": [
    "def totalEnergy(grediant, image, snake):\n",
    "    iEnergy = internalEnergy(snake)\n",
    "    eEnergy=externalEnergy(grediant, image, snake)\n",
    "    tEnergy = iEnergy+(Gamma * eEnergy)\n",
    "    return tEnergy"
   ]
  },
  {
   "cell_type": "markdown",
   "metadata": {},
   "source": [
    "## Drawing Circle"
   ]
  },
  {
   "cell_type": "code",
   "execution_count": 17,
   "metadata": {},
   "outputs": [],
   "source": [
    "def _pointsOnCircle(center, radius, num_points=12):\n",
    "    points = np.zeros((num_points, 2), dtype=np.int32)\n",
    "    for i in range(num_points):\n",
    "        theta = float(i)/num_points * (2 * np.pi)\n",
    "        x = center[0] + radius * np.cos(theta)\n",
    "        y = center[1] + radius * np.sin(theta)\n",
    "        p = [x, y]\n",
    "        points[i] = p\n",
    "        \n",
    "    return points"
   ]
  },
  {
   "cell_type": "code",
   "execution_count": 18,
   "metadata": {},
   "outputs": [],
   "source": [
    "def isPointInsideImage(image, point):\n",
    "\n",
    "    return np.all(point < np.shape(image)) and np.all(point > 0)"
   ]
  },
  {
   "cell_type": "markdown",
   "metadata": {},
   "source": [
    "## Apply active contouring"
   ]
  },
  {
   "cell_type": "code",
   "execution_count": 19,
   "metadata": {},
   "outputs": [],
   "source": [
    "def activeContour(image_file, center, radius):\n",
    "\n",
    "    image = cv2.imread(image_file, 0)\n",
    "    print(image.shape)\n",
    "    snake = _pointsOnCircle(center, radius, 30)\n",
    "    grediant = basicImageGradiant(image)\n",
    "\n",
    "    snakeColon =  copy.deepcopy(snake)\n",
    "\n",
    "    for i in range(200):\n",
    "        for index,point in enumerate(snake):\n",
    "            min_energy2 = float(\"inf\")\n",
    "            for cindex,movement in enumerate(neighbors):\n",
    "                next_node = (point + movement)\n",
    "                if not isPointInsideImage(image, next_node):\n",
    "                    continue\n",
    "                if not isPointInsideImage(image, point):\n",
    "                    continue\n",
    "\n",
    "                snakeColon[index]=next_node\n",
    "\n",
    "                totalEnergyNext = totalEnergy(grediant, image, snakeColon)\n",
    "\n",
    "                if (totalEnergyNext < min_energy2):\n",
    "                    min_energy2 = copy.deepcopy(totalEnergyNext)\n",
    "                    indexOFlessEnergy = copy.deepcopy(cindex)\n",
    "            snake[index] = (snake[index]+neighbors[indexOFlessEnergy])\n",
    "        snakeColon = copy.deepcopy(snake)\n",
    "\n",
    "\n",
    "    \n",
    "    return image, snake"
   ]
  },
  {
   "cell_type": "code",
   "execution_count": 20,
   "metadata": {},
   "outputs": [
    {
     "name": "stdout",
     "output_type": "stream",
     "text": [
      "(1400, 1400)\n",
      "[[0. 0. 0. ... 0. 0. 0.]\n",
      " [0. 0. 0. ... 0. 0. 0.]\n",
      " [0. 0. 0. ... 0. 0. 0.]\n",
      " ...\n",
      " [0. 0. 0. ... 0. 0. 0.]\n",
      " [0. 0. 0. ... 0. 0. 0.]\n",
      " [0. 0. 0. ... 0. 0. 0.]]\n",
      "[[0. 0. 0. ... 0. 0. 0.]\n",
      " [0. 0. 0. ... 0. 0. 0.]\n",
      " [0. 0. 0. ... 0. 0. 0.]\n",
      " ...\n",
      " [0. 0. 0. ... 0. 0. 0.]\n",
      " [0. 0. 0. ... 0. 0. 0.]\n",
      " [0. 0. 0. ... 0. 0. 0.]]\n"
     ]
    }
   ],
   "source": [
    "new_image, contour = activeContour(\"instagram_egg.jpg\", (700, 700), 580)"
   ]
  },
  {
   "cell_type": "code",
   "execution_count": 21,
   "metadata": {},
   "outputs": [
    {
     "data": {
      "text/plain": [
       "array([[1080,  729],\n",
       "       [1067,  799],\n",
       "       [1038,  867],\n",
       "       [1007,  937],\n",
       "       [ 967, 1014],\n",
       "       [ 909, 1083],\n",
       "       [ 832, 1136],\n",
       "       [ 748, 1170],\n",
       "       [ 664, 1174],\n",
       "       [ 576, 1146],\n",
       "       [ 500, 1092],\n",
       "       [ 434, 1026],\n",
       "       [ 390,  951],\n",
       "       [ 358,  869],\n",
       "       [ 332,  792],\n",
       "       [ 320,  719],\n",
       "       [ 332,  644],\n",
       "       [ 365,  568],\n",
       "       [ 392,  483],\n",
       "       [ 435,  401],\n",
       "       [ 496,  329],\n",
       "       [ 577,  275],\n",
       "       [ 662,  255],\n",
       "       [ 751,  265],\n",
       "       [ 824,  298],\n",
       "       [ 892,  355],\n",
       "       [ 949,  430],\n",
       "       [ 993,  514],\n",
       "       [1034,  589],\n",
       "       [1067,  660]])"
      ]
     },
     "execution_count": 21,
     "metadata": {},
     "output_type": "execute_result"
    }
   ],
   "source": [
    "contour"
   ]
  },
  {
   "cell_type": "code",
   "execution_count": null,
   "metadata": {},
   "outputs": [],
   "source": []
  }
 ],
 "metadata": {
  "kernelspec": {
   "display_name": "Python 3",
   "language": "python",
   "name": "python3"
  },
  "language_info": {
   "codemirror_mode": {
    "name": "ipython",
    "version": 3
   },
   "file_extension": ".py",
   "mimetype": "text/x-python",
   "name": "python",
   "nbconvert_exporter": "python",
   "pygments_lexer": "ipython3",
   "version": "3.7.1"
  }
 },
 "nbformat": 4,
 "nbformat_minor": 2
}
